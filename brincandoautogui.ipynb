{
 "cells": [
  {
   "cell_type": "code",
   "execution_count": null,
   "metadata": {},
   "outputs": [],
   "source": [
    "!pip install pyautogui"
   ]
  },
  {
   "cell_type": "code",
   "execution_count": 3,
   "metadata": {},
   "outputs": [],
   "source": [
    "import pyautogui\n",
    "import time"
   ]
  },
  {
   "cell_type": "code",
   "execution_count": 14,
   "metadata": {},
   "outputs": [],
   "source": [
    "time.sleep(1)\n",
    "pyautogui.press('win')\n",
    "time.sleep(1)\n",
    "pyautogui.write('firefox')\n",
    "time.sleep(1)\n",
    "pyautogui.press('enter')\n",
    "time.sleep(1)\n",
    "pyautogui.hotkey('ctrl', 'l')\n",
    "time.sleep(2)\n",
    "pyautogui.write('https://www.youtube.com/')\n",
    "time.sleep(1)\n",
    "pyautogui.press('enter')\n",
    "time.sleep(2)\n",
    "pyautogui.click(844,110)\n",
    "time.sleep(1)\n",
    "pyautogui.write('Curso em video')\n",
    "time.sleep(2)\n",
    "pyautogui.click(1213,118)\n",
    "time.sleep(3)\n",
    "pyautogui.click(706,555)\n",
    "time.sleep(1)"
   ]
  },
  {
   "cell_type": "code",
   "execution_count": 10,
   "metadata": {},
   "outputs": [
    {
     "name": "stdout",
     "output_type": "stream",
     "text": [
      "Point(x=706, y=555)\n"
     ]
    }
   ],
   "source": [
    "time.sleep(4)\n",
    "print(pyautogui.position())"
   ]
  }
 ],
 "metadata": {
  "kernelspec": {
   "display_name": "Python 3",
   "language": "python",
   "name": "python3"
  },
  "language_info": {
   "codemirror_mode": {
    "name": "ipython",
    "version": 3
   },
   "file_extension": ".py",
   "mimetype": "text/x-python",
   "name": "python",
   "nbconvert_exporter": "python",
   "pygments_lexer": "ipython3",
   "version": "3.8.10"
  }
 },
 "nbformat": 4,
 "nbformat_minor": 2
}
