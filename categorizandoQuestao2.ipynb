{
 "cells": [
  {
   "cell_type": "code",
   "execution_count": 43,
   "metadata": {},
   "outputs": [
    {
     "name": "stdout",
     "output_type": "stream",
     "text": [
      "Requirement already satisfied: pyautogui in /home/manuela_oliveira/.local/lib/python3.8/site-packages (0.9.54)\n",
      "Requirement already satisfied: mouseinfo in /home/manuela_oliveira/.local/lib/python3.8/site-packages (from pyautogui) (0.1.3)\n",
      "Requirement already satisfied: pymsgbox in /home/manuela_oliveira/.local/lib/python3.8/site-packages (from pyautogui) (1.0.9)\n",
      "Requirement already satisfied: pyscreeze>=0.1.21 in /home/manuela_oliveira/.local/lib/python3.8/site-packages (from pyautogui) (0.1.30)\n",
      "Requirement already satisfied: pytweening>=1.0.4 in /home/manuela_oliveira/.local/lib/python3.8/site-packages (from pyautogui) (1.2.0)\n",
      "Requirement already satisfied: pygetwindow>=0.0.5 in /home/manuela_oliveira/.local/lib/python3.8/site-packages (from pyautogui) (0.0.9)\n",
      "Requirement already satisfied: python3-Xlib; platform_system == \"Linux\" and python_version >= \"3.0\" in /home/manuela_oliveira/.local/lib/python3.8/site-packages (from pyautogui) (0.15)\n",
      "Requirement already satisfied: pyperclip in /home/manuela_oliveira/.local/lib/python3.8/site-packages (from mouseinfo->pyautogui) (1.8.2)\n",
      "Requirement already satisfied: Pillow>=9.2.0; python_version == \"3.8\" in /home/manuela_oliveira/.local/lib/python3.8/site-packages (from pyscreeze>=0.1.21->pyautogui) (10.3.0)\n",
      "Requirement already satisfied: pyrect in /home/manuela_oliveira/.local/lib/python3.8/site-packages (from pygetwindow>=0.0.5->pyautogui) (0.2.0)\n"
     ]
    }
   ],
   "source": [
    "!pip install pyautogui\n",
    "\n",
    "import pyautogui \n",
    "import time\n",
    "# -*- coding: utf-8 -*-\n",
    "\n",
    "\n",
    "time.sleep(1)\n",
    "pyautogui.click(298,1056)\n",
    "time.sleep(1)\n",
    "pyautogui.hotkey('Tab')\n",
    "pyautogui.hotkey('Tab')\n",
    "time.sleep(1)\n",
    "#pyautogui.write('Em que assunto e disciplina se encaixa essa questão?')\n",
    "pyautogui.typewrite('Em que assunto e disciplina se encaixa essa questão?')\n",
    "pyautogui.hotkey('Tab')\n",
    "pyautogui.hotkey('Enter')\n",
    "#pyautogui.hotkey('Tab')\n",
    "#pyautogui.click(20,1062)"
   ]
  },
  {
   "cell_type": "code",
   "execution_count": 32,
   "metadata": {},
   "outputs": [
    {
     "name": "stdout",
     "output_type": "stream",
     "text": [
      "utf-8\n"
     ]
    }
   ],
   "source": [
    "import sys\n",
    "print(sys.getdefaultencoding())"
   ]
  },
  {
   "cell_type": "code",
   "execution_count": 3,
   "metadata": {},
   "outputs": [
    {
     "name": "stdout",
     "output_type": "stream",
     "text": [
      "Point(x=298, y=1056)\n"
     ]
    }
   ],
   "source": [
    "time.sleep(5)\n",
    "print(pyautogui.position())"
   ]
  }
 ],
 "metadata": {
  "kernelspec": {
   "display_name": "Python 3",
   "language": "python",
   "name": "python3"
  },
  "language_info": {
   "codemirror_mode": {
    "name": "ipython",
    "version": 3
   },
   "file_extension": ".py",
   "mimetype": "text/x-python",
   "name": "python",
   "nbconvert_exporter": "python",
   "pygments_lexer": "ipython3",
   "version": "3.8.10"
  }
 },
 "nbformat": 4,
 "nbformat_minor": 2
}
